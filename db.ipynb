{
 "cells": [
  {
   "cell_type": "code",
   "execution_count": 415,
   "id": "f92e690f",
   "metadata": {},
   "outputs": [],
   "source": [
    "import pandas as pd\n",
    "import numpy as np\n",
    "import glob\n",
    "import os\n",
    "from tqdm import tqdm\n",
    "\n",
    "from sqlalchemy import create_engine\n",
    "from sqlalchemy import text\n",
    "from config import url_local_postgres\n"
   ]
  },
  {
   "cell_type": "code",
   "execution_count": 416,
   "id": "a38b4f7b",
   "metadata": {},
   "outputs": [],
   "source": [
    "def dataframe_agents_and_companys():\n",
    "    # Cargar todos los archivos JSON en un solo DataFrame\n",
    "    file_paths=glob.glob(\"data/simem/972263/2025-*-*.json\")\n",
    "\n",
    "    columns={\n",
    "        'Fecha': 'fecha',\n",
    "        'CodigoSICAgente': 'agente',\n",
    "        'NombreAgente': 'nombre_empresa',\n",
    "        'ActividadAgente': 'nombre_actividad'\n",
    "    }\n",
    "    records=[]\n",
    "    for file_path in tqdm(file_paths):\n",
    "        df=pd.read_json(file_path)\n",
    "\n",
    "        df=df[columns.keys()]\n",
    "        df=df.rename(columns=columns)\n",
    "\n",
    "        df['empresa'] = df['agente'].str[:3]\n",
    "        df['actividad'] = df['agente'].str[-1]\n",
    "\n",
    "        df['fecha'] = pd.to_datetime(df['fecha'], format='%Y-%m-%d')\n",
    "        \n",
    "        records.append(df)\n",
    "\n",
    "    df=pd.concat(records, ignore_index=True)\n",
    "    df= df.sort_values(by=['fecha', 'agente']).reset_index(drop=True)\n",
    "    df=df.drop_duplicates(subset=['agente'], keep='last')\n",
    "\n",
    "\n",
    "    return df"
   ]
  },
  {
   "cell_type": "code",
   "execution_count": 417,
   "id": "d5a5d5e2",
   "metadata": {},
   "outputs": [],
   "source": [
    "def dataframe_contracts():\n",
    "    file_paths=glob.glob(\"data/simem/d31647/2025-*-*.json\")\n",
    "\n",
    "\n",
    "    columns={\n",
    "        \"Fecha\": \"fecha\",\n",
    "        \"CodigoAgenteComprador\": \"agente\",\n",
    "        \"TipoMercado\": \"nombre_tipo_mercado\",\n",
    "        \"Cantidad\": \"despacho_kwh\",\n",
    "        \"PPP\": \"precio_ponderado_$/kwh\",\n",
    "    }\n",
    "\n",
    "    records=[]\n",
    "    for file_path in tqdm(file_paths):\n",
    "        df=pd.read_json(file_path)\n",
    "\n",
    "        df=df[columns.keys()]\n",
    "        df=df.rename(columns=columns)\n",
    "\n",
    "        df['fecha'] = pd.to_datetime(df['fecha'], format='%Y-%m-%d')\n",
    "        df=df[(df['despacho_kwh']>0 ) & (df['precio_ponderado_$/kwh']>0)]\n",
    "        df['total_comprado_$'] = df['despacho_kwh'] * df['precio_ponderado_$/kwh']\n",
    "        records.append(df)\n",
    "\n",
    "    df=pd.concat(records, ignore_index=True)\n",
    "\n",
    "    df[\"tipo_mercado\"] = df[\"nombre_tipo_mercado\"].map({'No Regulado': 'N', 'Regulado': 'R'})\n",
    "    df= df.sort_values(by=['fecha', 'agente']).reset_index(drop=True)\n",
    "\n",
    "\n",
    "    return df"
   ]
  },
  {
   "cell_type": "code",
   "execution_count": 418,
   "id": "930b2eb9",
   "metadata": {},
   "outputs": [
    {
     "name": "stderr",
     "output_type": "stream",
     "text": [
      "100%|██████████| 212/212 [00:01<00:00, 198.93it/s]\n"
     ]
    },
    {
     "data": {
      "text/plain": [
       "['fecha',\n",
       " 'agente',\n",
       " 'nombre_tipo_mercado',\n",
       " 'despacho_kwh',\n",
       " 'precio_ponderado_$/kwh',\n",
       " 'total_comprado_$',\n",
       " 'tipo_mercado']"
      ]
     },
     "execution_count": 418,
     "metadata": {},
     "output_type": "execute_result"
    }
   ],
   "source": [
    "df=dataframe_contracts()\n",
    "\n",
    "df.columns.to_list()"
   ]
  },
  {
   "cell_type": "code",
   "execution_count": 419,
   "id": "c00b4b6b",
   "metadata": {},
   "outputs": [],
   "source": [
    "def create_table_agents():\n",
    "     # Crear la tabla en PostgreSQL\n",
    "    df=dataframe_agents_and_companys()\n",
    "    columns=['agente', 'empresa', 'actividad']\n",
    "    df=df[columns]\n",
    "    engine=create_engine(url_local_postgres)\n",
    "    df.to_sql('agentes', engine, if_exists='replace', index=False)\n",
    "    return df"
   ]
  },
  {
   "cell_type": "code",
   "execution_count": 420,
   "id": "7fb30628",
   "metadata": {},
   "outputs": [],
   "source": [
    "def create_table_companies():\n",
    "    df=dataframe_agents_and_companys()\n",
    "    columns=['empresa', 'nombre_empresa']\n",
    "    df=df[columns]\n",
    "    df=df.drop_duplicates(subset=['empresa'], keep='last')\n",
    "    df=df.sort_values(by=['empresa']).reset_index(drop=True)\n",
    "    engine=create_engine(url_local_postgres)\n",
    "    df.to_sql('empresas', engine, if_exists='replace', index=False)\n",
    "    return df\n"
   ]
  },
  {
   "cell_type": "code",
   "execution_count": 421,
   "id": "e1b0a8f1",
   "metadata": {},
   "outputs": [],
   "source": [
    "def create_table_actividades():\n",
    "    df=dataframe_agents_and_companys()\n",
    "    columns=['actividad', 'nombre_actividad']\n",
    "    df=df[columns]\n",
    "    df=df.drop_duplicates(subset=['actividad'], keep='last')\n",
    "    df=df.sort_values(by=['actividad']).reset_index(drop=True)\n",
    "    engine=create_engine(url_local_postgres)\n",
    "    df.to_sql('actividades', engine, if_exists='replace', index=False)\n",
    "    return df"
   ]
  },
  {
   "cell_type": "code",
   "execution_count": 422,
   "id": "8f16edd6",
   "metadata": {},
   "outputs": [],
   "source": [
    "def create_table_contracts():\n",
    "    df=dataframe_contracts()\n",
    "\n",
    "    columns=[\n",
    "        'fecha',\n",
    "        'agente',\n",
    "        'despacho_kwh',\n",
    "        'precio_ponderado_$/kwh',\n",
    "        'total_comprado_$',\n",
    "        'tipo_mercado'\n",
    "    ]\n",
    "    df=df[columns]\n",
    "     # Crear la tabla en PostgreSQL\n",
    "    engine=create_engine(url_local_postgres)\n",
    "    df.to_sql('contratos', engine, if_exists='replace', index=False)\n",
    "    return df\n"
   ]
  },
  {
   "cell_type": "code",
   "execution_count": 423,
   "id": "20907b63",
   "metadata": {},
   "outputs": [],
   "source": [
    "def create_table_markets():\n",
    "    df=dataframe_contracts()\n",
    "\n",
    "    columns=[\n",
    "        'tipo_mercado',\n",
    "        'nombre_tipo_mercado'\n",
    "\n",
    "    ]\n",
    "    df=df[columns]\n",
    "     # Crear la tabla en PostgreSQL\n",
    "    df=df.drop_duplicates(subset=['tipo_mercado'], keep='last')\n",
    "    engine=create_engine(url_local_postgres)\n",
    "    df.to_sql('tipo_mercados', engine, if_exists='replace', index=False)\n",
    "    return df"
   ]
  },
  {
   "cell_type": "code",
   "execution_count": 424,
   "id": "b24870fc",
   "metadata": {},
   "outputs": [],
   "source": [
    "def create_primary_keys():\n",
    "    engine=create_engine(url_local_postgres)\n",
    "\n",
    "    with engine.connect() as conn:\n",
    "        conn.execute(text(\"ALTER TABLE public.actividades ADD CONSTRAINT pk_actividad PRIMARY KEY (actividad);\"))\n",
    "        conn.execute(text(\"COMMIT;\"))\n",
    "        conn.execute(text(\"ALTER TABLE public.empresas ADD CONSTRAINT pk_empresa PRIMARY KEY (empresa);\"))\n",
    "        conn.execute(text(\"COMMIT;\"))\n",
    "        conn.execute(text(\"ALTER TABLE public.agentes ADD CONSTRAINT pk_agente PRIMARY KEY (agente);\"))\n",
    "        conn.execute(text(\"COMMIT;\"))\n",
    "        conn.execute(text(\"ALTER TABLE public.tipo_mercados ADD CONSTRAINT pk_tipo_mercado PRIMARY KEY (tipo_mercado);\"))\n",
    "        conn.execute(text(\"COMMIT;\"))\n",
    "\n",
    "\n"
   ]
  },
  {
   "cell_type": "code",
   "execution_count": 425,
   "id": "98decd3f",
   "metadata": {},
   "outputs": [],
   "source": [
    "# %%\n",
    "def create_relationships():\n",
    "    engine = create_engine(url_local_postgres)\n",
    "\n",
    "    with engine.connect() as conn:\n",
    "        # Relación entre agentes.actividad -> actividades.actividad\n",
    "        conn.execute(text(\"\"\"\n",
    "            ALTER TABLE public.agentes \n",
    "            ADD CONSTRAINT fk_agente_actividad \n",
    "            FOREIGN KEY (actividad) REFERENCES public.actividades(actividad);\n",
    "        \"\"\"))\n",
    "        conn.execute(text(\"COMMIT;\"))\n",
    "\n",
    "    with engine.connect() as conn:\n",
    "        # Relación entre agentes.empresa -> actividades.empresa\n",
    "        conn.execute(text(\"\"\"\n",
    "            ALTER TABLE public.agentes \n",
    "            ADD CONSTRAINT fk_agente_empresa \n",
    "            FOREIGN KEY (empresa) REFERENCES public.empresas(empresa);\n",
    "        \"\"\"))\n",
    "        conn.execute(text(\"COMMIT;\"))\n",
    "\n",
    "    with engine.connect() as conn:\n",
    "        # Relación entre contratos.agente -> agentes.agente\n",
    "        conn.execute(text(\"\"\"\n",
    "            ALTER TABLE public.contratos \n",
    "            ADD CONSTRAINT fk_agente_agente \n",
    "            FOREIGN KEY (agente) REFERENCES public.agentes(agente);\n",
    "        \"\"\"))\n",
    "        conn.execute(text(\"COMMIT;\"))\n",
    "\n",
    "    with engine.connect() as conn:\n",
    "        # Relación entre contratos.tipo_mercado -> tipo_mercados.tipo_mercado\n",
    "        conn.execute(text(\"\"\"\n",
    "            ALTER TABLE public.contratos \n",
    "            ADD CONSTRAINT fk_contrato_tipo_mercado \n",
    "            FOREIGN KEY (tipo_mercado) REFERENCES public.tipo_mercados(tipo_mercado);\n",
    "        \"\"\"))\n",
    "        conn.execute(text(\"COMMIT;\"))\n",
    "\n",
    "\n"
   ]
  },
  {
   "cell_type": "code",
   "execution_count": 426,
   "id": "1865fa0f",
   "metadata": {},
   "outputs": [],
   "source": [
    "def main():\n",
    "    print(\"Creando tabla agentes...\")\n",
    "    df_agents=create_table_agents()\n",
    "    print(df_agents.head())\n",
    "\n",
    "    print(\"Creando tabla empresas...\")\n",
    "    df_companies=create_table_companies()\n",
    "    print(df_companies.head())\n",
    "\n",
    "    print(\"Creando tabla actividades...\")\n",
    "    df_activities=create_table_actividades()\n",
    "    print(df_activities.head())\n",
    "\n",
    "\n",
    "    print(\"Creando tabla tipo_mercados...\")\n",
    "    df_markets=create_table_markets()\n",
    "    print(df_markets.head())\n",
    "\n",
    "    print(\"Creando tabla contratos...\")\n",
    "    df_contracts=create_table_contracts()\n",
    "    print(df_contracts.head())\n",
    "    \n",
    "    print(\"Creando llaves primarias...\")\n",
    "    create_primary_keys()\n",
    " \n",
    "    print(\"Creando relaciones...\")\n",
    "    create_relationships()  \n",
    " \n",
    " "
   ]
  },
  {
   "cell_type": "code",
   "execution_count": 427,
   "id": "0315ac6d",
   "metadata": {},
   "outputs": [
    {
     "name": "stdout",
     "output_type": "stream",
     "text": [
      "Creando tabla agentes...\n"
     ]
    },
    {
     "name": "stderr",
     "output_type": "stream",
     "text": [
      "100%|██████████| 243/243 [00:00<00:00, 334.43it/s]\n"
     ]
    },
    {
     "name": "stdout",
     "output_type": "stream",
     "text": [
      "      agente empresa actividad\n",
      "10024   SAFC     SAF         C\n",
      "29691   SAPT     SAP         T\n",
      "30530   EMRC     EMR         C\n",
      "79968   AAGC     AAG         C\n",
      "79969   AAGG     AAG         G\n",
      "Creando tabla empresas...\n"
     ]
    },
    {
     "name": "stderr",
     "output_type": "stream",
     "text": [
      "100%|██████████| 243/243 [00:00<00:00, 346.16it/s]\n"
     ]
    },
    {
     "name": "stdout",
     "output_type": "stream",
     "text": [
      "  empresa                                    nombre_empresa\n",
      "0     AAG                  ATLÁNTICA COLOMBIA S.A.S. E.S.P.\n",
      "1     ABA                          AURES BAJO S.A.S. E.S.P.\n",
      "2     ADC                ENERGIA DEL RIO PIEDRAS S.A. E.S.P\n",
      "3     AES  AGENTE EXPERTO EN SERVICIOS PÚBLICOS S.A.S E.S.P\n",
      "4     AMP                               AMPERIA S.A. E.S.P.\n",
      "Creando tabla actividades...\n"
     ]
    },
    {
     "name": "stderr",
     "output_type": "stream",
     "text": [
      "100%|██████████| 243/243 [00:00<00:00, 1903.06it/s]\n"
     ]
    },
    {
     "name": "stdout",
     "output_type": "stream",
     "text": [
      "  actividad nombre_actividad\n",
      "0         C  Comercializador\n",
      "1         D     Distribuidor\n",
      "2         G        Generador\n",
      "3         T    Transportador\n",
      "Creando tabla tipo_mercados...\n"
     ]
    },
    {
     "name": "stderr",
     "output_type": "stream",
     "text": [
      "100%|██████████| 212/212 [00:01<00:00, 210.79it/s]\n"
     ]
    },
    {
     "name": "stdout",
     "output_type": "stream",
     "text": [
      "       tipo_mercado nombre_tipo_mercado\n",
      "157226            R            Regulado\n",
      "157241            N         No Regulado\n",
      "Creando tabla contratos...\n"
     ]
    },
    {
     "name": "stderr",
     "output_type": "stream",
     "text": [
      "100%|██████████| 212/212 [00:01<00:00, 149.44it/s]\n"
     ]
    },
    {
     "name": "stdout",
     "output_type": "stream",
     "text": [
      "       fecha agente  despacho_kwh  precio_ponderado_$/kwh  total_comprado_$  \\\n",
      "0 2025-01-01   ADCC  331084.90625                202.6994      6.711071e+07   \n",
      "1 2025-01-01   ADCC  331084.90625                202.7634      6.713190e+07   \n",
      "2 2025-01-01   ADCC  331084.90625                202.5815      6.707168e+07   \n",
      "3 2025-01-01   ADCC  331084.90625                202.8072      6.714640e+07   \n",
      "4 2025-01-01   AESC  394957.56250                307.7826      1.215611e+08   \n",
      "\n",
      "  tipo_mercado  \n",
      "0            N  \n",
      "1            N  \n",
      "2            N  \n",
      "3            N  \n",
      "4            N  \n",
      "Creando llaves primarias...\n",
      "Creando relaciones...\n"
     ]
    }
   ],
   "source": [
    "if __name__ == \"__main__\":\n",
    "    main()"
   ]
  }
 ],
 "metadata": {
  "kernelspec": {
   "display_name": ".venv",
   "language": "python",
   "name": "python3"
  },
  "language_info": {
   "codemirror_mode": {
    "name": "ipython",
    "version": 3
   },
   "file_extension": ".py",
   "mimetype": "text/x-python",
   "name": "python",
   "nbconvert_exporter": "python",
   "pygments_lexer": "ipython3",
   "version": "3.12.3"
  }
 },
 "nbformat": 4,
 "nbformat_minor": 5
}
